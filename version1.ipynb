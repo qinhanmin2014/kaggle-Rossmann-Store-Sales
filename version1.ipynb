{
 "cells": [
  {
   "cell_type": "markdown",
   "metadata": {},
   "source": [
    "Most of the fields are self-explanatory. The following are descriptions for those that aren't.\n",
    "\n",
    "- Id - an Id that represents a (Store, Date) duple within the test set\n",
    "- Store - a unique Id for each store\n",
    "- Sales - the turnover for any given day (this is what you are predicting)\n",
    "- Customers - the number of customers on a given day\n",
    "- Open - an indicator for whether the store was open: 0 = closed, 1 = open\n",
    "- StateHoliday - indicates a state holiday. Normally all stores, with few exceptions, are closed on state holidays. Note that all schools are - closed on public holidays and weekends. a = public holiday, b = Easter holiday, c = Christmas, 0 = None\n",
    "- SchoolHoliday - indicates if the (Store, Date) was affected by the closure of public schools\n",
    "- StoreType - differentiates between 4 different store models: a, b, c, d\n",
    "- Assortment - describes an assortment level: a = basic, b = extra, c = extended\n",
    "- CompetitionDistance - distance in meters to the nearest competitor store\n",
    "- CompetitionOpenSince[Month/Year] - gives the approximate year and month of the time the nearest competitor was opened\n",
    "- Promo - indicates whether a store is running a promo on that day\n",
    "- Promo2 - Promo2 is a continuing and consecutive promotion for some stores: 0 = store is not participating, 1 = store is participating\n",
    "- Promo2Since[Year/Week] - describes the year and calendar week when the store started participating in Promo2\n",
    "- PromoInterval - describes the consecutive intervals Promo2 is started, naming the months the promotion is started anew. E.g. -\"Feb,May,Aug,Nov\" means each round starts in February, May, August, November of any given year for that store"
   ]
  },
  {
   "cell_type": "code",
   "execution_count": 1,
   "metadata": {},
   "outputs": [],
   "source": [
    "import os\n",
    "os.environ[\"CUDA_VISIBLE_DEVICES\"] = \"0\"\n",
    "import numpy as np\n",
    "import pandas as pd\n",
    "pd.set_option(\"display.max_columns\", None)\n",
    "import matplotlib.pyplot as plt\n",
    "%matplotlib inline\n",
    "import seaborn as sns\n",
    "from sklearn.compose import ColumnTransformer\n",
    "from sklearn.preprocessing import OrdinalEncoder, OneHotEncoder, LabelEncoder\n",
    "from sklearn.model_selection import train_test_split\n",
    "import xgboost as xgb\n",
    "import lightgbm as lgb\n",
    "import catboost as ctb"
   ]
  },
  {
   "cell_type": "code",
   "execution_count": 2,
   "metadata": {},
   "outputs": [],
   "source": [
    "X_train = pd.read_csv(\"data/train.csv\", parse_dates=[2], low_memory=False)\n",
    "X_test = pd.read_csv(\"data/test.csv\", parse_dates=[3], low_memory=False)\n",
    "store = pd.read_csv(\"data/store.csv\")"
   ]
  },
  {
   "cell_type": "code",
   "execution_count": 3,
   "metadata": {},
   "outputs": [
    {
     "name": "stdout",
     "output_type": "stream",
     "text": [
      "2013-01-01 00:00:00 2015-07-31 00:00:00\n"
     ]
    }
   ],
   "source": [
    "print(X_train[\"Date\"].min(), X_train[\"Date\"].max())\n",
    "X_train.sort_values([\"Date\"], inplace=True, kind=\"mergesort\")\n",
    "X_train.reset_index(drop=True, inplace=True)"
   ]
  },
  {
   "cell_type": "code",
   "execution_count": 4,
   "metadata": {},
   "outputs": [],
   "source": [
    "X_test[\"Open\"] = X_test[\"Open\"].fillna(1)"
   ]
  },
  {
   "cell_type": "code",
   "execution_count": 5,
   "metadata": {},
   "outputs": [],
   "source": [
    "# TODO: how do handle missing values regarding competitor store\n",
    "store.fillna(0, inplace=True)"
   ]
  },
  {
   "cell_type": "code",
   "execution_count": 6,
   "metadata": {},
   "outputs": [],
   "source": [
    "X_train = pd.merge(X_train, store, on=\"Store\", how=\"left\")\n",
    "X_test = pd.merge(X_test, store, on=\"Store\", how=\"left\")"
   ]
  },
  {
   "cell_type": "code",
   "execution_count": 7,
   "metadata": {},
   "outputs": [],
   "source": [
    "for df in [X_train, X_test]:\n",
    "    df['year'] = df['Date'].dt.year\n",
    "    df['month'] = df['Date'].dt.month\n",
    "    df['day'] = df['Date'].dt.day\n",
    "    assert np.all(df[\"DayOfWeek\"] - 1 == df['Date'].dt.dayofweek)\n",
    "    df['dayofyear'] = df['Date'].dt.dayofyear\n",
    "    df['weekofyear'] = df['Date'].dt.weekofyear\n",
    "    df.drop(\"Date\", axis=1, inplace=True)"
   ]
  },
  {
   "cell_type": "code",
   "execution_count": 8,
   "metadata": {},
   "outputs": [],
   "source": [
    "for df in [X_train, X_test]:\n",
    "    df[\"CompetitionOpen\"] = ((df[\"year\"] - df[\"CompetitionOpenSinceYear\"]) * 12\n",
    "                             + (df[\"month\"] - df[\"CompetitionOpenSinceMonth\"]))\n",
    "    df[\"CompetitionOpen\"] = df[\"CompetitionOpen\"].apply(lambda x: x if x > 0 else 0)\n",
    "    df[\"PromoOpen\"] = ((df[\"year\"] - df[\"Promo2SinceYear\"]) * 12\n",
    "                       + (df[\"weekofyear\"] - df[\"Promo2SinceWeek\"]) / 4)\n",
    "    df[\"PromoOpen\"] = df[\"PromoOpen\"].apply(lambda x: x if x > 0 else 0)"
   ]
  },
  {
   "cell_type": "code",
   "execution_count": 9,
   "metadata": {},
   "outputs": [],
   "source": [
    "month2str = {1:'Jan', 2:'Feb', 3:'Mar', 4:'Apr', 5:'May', 6:'Jun',\n",
    "             7:'Jul', 8:'Aug', 9:'Sept', 10:'Oct', 11:'Nov', 12:'Dec'}\n",
    "def check(row):\n",
    "    if isinstance(row['PromoInterval'], str) and month2str[row['month']] in row['PromoInterval']:\n",
    "        if (row['year'] > row['Promo2SinceYear'] or\n",
    "            (row['year'] == row['Promo2SinceYear'] and row['weekofyear'] > row['Promo2SinceWeek'])):\n",
    "            return 1\n",
    "    return 0\n",
    "for df in [X_train, X_test]:\n",
    "    df['IsPromoMonth'] = df.apply(lambda row: check(row), axis=1) \n",
    "    #df.drop(\"PromoInterval\", axis=1, inplace=True)"
   ]
  },
  {
   "cell_type": "code",
   "execution_count": 10,
   "metadata": {},
   "outputs": [],
   "source": [
    "groups = X_train[[\"Store\", \"Open\"]].groupby(\"Store\").mean()\n",
    "groups.rename(columns={\"Open\":\"shopavgopen\"}, inplace=True)\n",
    "X_train = pd.merge(X_train, groups, how=\"left\", on=\"Store\")\n",
    "X_test = pd.merge(X_test, groups, how=\"left\", on=\"Store\")"
   ]
  },
  {
   "cell_type": "code",
   "execution_count": 11,
   "metadata": {},
   "outputs": [],
   "source": [
    "groups = X_train[[\"Store\", \"Sales\", \"Customers\"]].groupby(\"Store\").sum()\n",
    "groups[\"shopavgsalespercustomer\"] = groups[\"Sales\"] / groups[\"Customers\"]\n",
    "del groups[\"Sales\"], groups[\"Customers\"]\n",
    "X_train = pd.merge(X_train, groups, how=\"left\", on=\"Store\")\n",
    "X_test = pd.merge(X_test, groups, how=\"left\", on=\"Store\")"
   ]
  },
  {
   "cell_type": "code",
   "execution_count": 12,
   "metadata": {},
   "outputs": [],
   "source": [
    "groups = X_train[[\"Store\", \"SchoolHoliday\"]].groupby(\"Store\").mean()\n",
    "groups.rename(columns={\"SchoolHoliday\":\"shopavgschoolholiday\"}, inplace=True)\n",
    "X_train = pd.merge(X_train, groups, how=\"left\", on=\"Store\")\n",
    "X_test = pd.merge(X_test, groups, how=\"left\", on=\"Store\")"
   ]
  },
  {
   "cell_type": "code",
   "execution_count": 13,
   "metadata": {},
   "outputs": [],
   "source": [
    "groups1 = X_train[[\"Store\", \"Sales\"]].groupby(\"Store\").sum()\n",
    "groups2 = X_train[X_train[\"StateHoliday\"] != \"0\"][[\"Store\", \"Sales\"]].groupby(\"Store\").sum()\n",
    "groups = pd.merge(groups1, groups2, on=\"Store\")\n",
    "groups[\"shopsalesholiday\"] = groups[\"Sales_y\"] / groups[\"Sales_x\"]\n",
    "del groups[\"Sales_x\"], groups[\"Sales_y\"]\n",
    "X_train = pd.merge(X_train, groups, how=\"left\", on=\"Store\")\n",
    "X_test = pd.merge(X_test, groups, how=\"left\", on=\"Store\")"
   ]
  },
  {
   "cell_type": "code",
   "execution_count": 14,
   "metadata": {},
   "outputs": [],
   "source": [
    "groups1 = X_train[[\"Store\", \"Sales\"]].groupby(\"Store\").sum()\n",
    "groups2 = X_train[X_train[\"IsPromoMonth\"] == 1][[\"Store\", \"Sales\"]].groupby(\"Store\").sum()\n",
    "groups = pd.merge(groups1, groups2, on=\"Store\")\n",
    "groups[\"shopsalespromo\"] = groups[\"Sales_y\"] / groups[\"Sales_x\"]\n",
    "del groups[\"Sales_x\"], groups[\"Sales_y\"]\n",
    "X_train = pd.merge(X_train, groups, how=\"left\", on=\"Store\")\n",
    "X_test = pd.merge(X_test, groups, how=\"left\", on=\"Store\")"
   ]
  },
  {
   "cell_type": "code",
   "execution_count": 15,
   "metadata": {},
   "outputs": [],
   "source": [
    "groups1 = X_train[[\"Store\", \"Sales\"]].groupby(\"Store\").sum()\n",
    "groups2 = X_train[X_train[\"DayOfWeek\"] == 6][[\"Store\", \"Sales\"]].groupby(\"Store\").sum()\n",
    "groups = pd.merge(groups1, groups2, on=\"Store\")\n",
    "groups[\"shopsalessaturday\"] = groups[\"Sales_y\"] / groups[\"Sales_x\"]\n",
    "del groups[\"Sales_x\"], groups[\"Sales_y\"]\n",
    "X_train = pd.merge(X_train, groups, how=\"left\", on=\"Store\")\n",
    "X_test = pd.merge(X_test, groups, how=\"left\", on=\"Store\")"
   ]
  },
  {
   "cell_type": "code",
   "execution_count": 16,
   "metadata": {},
   "outputs": [],
   "source": [
    "assert np.all(X_train[X_train[\"Open\"] == 0][\"Sales\"] == 0)\n",
    "# X_train = X_train[X_train[\"Open\"] == 1]\n",
    "X_train = X_train[X_train[\"Sales\"] != 0]\n",
    "del X_train[\"Open\"]\n",
    "test_close_ind = np.where(X_test[\"Open\"] == 0)[0]\n",
    "del X_test[\"Open\"]"
   ]
  },
  {
   "cell_type": "code",
   "execution_count": 17,
   "metadata": {},
   "outputs": [],
   "source": [
    "for col in [\"StateHoliday\", \"StoreType\", \"Assortment\", \"DayOfWeek\", \"month\", \"PromoInterval\"]:\n",
    "    for val in X_train[col].unique():\n",
    "        new_col_name = col + \"_\" + str(val)\n",
    "        X_train[new_col_name] = (X_train[col] == val).astype(int)\n",
    "        X_test[new_col_name] = (X_test[col] == val).astype(int)\n",
    "del X_train[\"PromoInterval\"], X_test[\"PromoInterval\"]"
   ]
  },
  {
   "cell_type": "code",
   "execution_count": 18,
   "metadata": {},
   "outputs": [],
   "source": [
    "for col in [\"StateHoliday\", \"StoreType\", \"Assortment\"]:\n",
    "    le = LabelEncoder()\n",
    "    X_train[col] = le.fit_transform(X_train[col])\n",
    "    X_test[col] = le.transform(X_test[col])"
   ]
  },
  {
   "cell_type": "code",
   "execution_count": 19,
   "metadata": {},
   "outputs": [],
   "source": [
    "y_train = np.array(X_train[\"Sales\"])\n",
    "X_train.drop(\"Sales\", axis=1, inplace=True)\n",
    "X_train.drop(\"Customers\", axis=1, inplace=True)\n",
    "test_ID = X_test[\"Id\"]\n",
    "X_test.drop(\"Id\", axis=1, inplace=True)"
   ]
  },
  {
   "cell_type": "code",
   "execution_count": 20,
   "metadata": {},
   "outputs": [],
   "source": [
    "y_train = np.log1p(y_train)"
   ]
  },
  {
   "cell_type": "code",
   "execution_count": 21,
   "metadata": {},
   "outputs": [],
   "source": [
    "def rmspe(y_true, y_pred):\n",
    "    y_pred = y_pred[y_true != 0]\n",
    "    y_true = y_true[y_true != 0]\n",
    "    err = np.sqrt(np.mean((1 - y_pred / y_true) ** 2))\n",
    "    return err\n",
    "\n",
    "def rmspe_xgb(y_pred, y_true):\n",
    "    y_true = y_true.get_label()\n",
    "    err = rmspe(np.expm1(y_true), np.expm1(y_pred))\n",
    "    return \"rmspe\", err"
   ]
  },
  {
   "cell_type": "code",
   "execution_count": 22,
   "metadata": {},
   "outputs": [
    {
     "name": "stdout",
     "output_type": "stream",
     "text": [
      "[0]\tvalidation_0-rmse:8.02077\tvalidation_1-rmse:8.02757\tvalidation_0-rmspe:0.999809\tvalidation_1-rmspe:0.999811\n",
      "Multiple eval metrics have been passed: 'validation_1-rmspe' will be used for early stopping.\n",
      "\n",
      "Will train until validation_1-rmspe hasn't improved in 100 rounds.\n",
      "[100]\tvalidation_0-rmse:0.430094\tvalidation_1-rmse:0.434688\tvalidation_0-rmspe:0.350472\tvalidation_1-rmspe:0.337031\n",
      "[200]\tvalidation_0-rmse:0.142173\tvalidation_1-rmse:0.159\tvalidation_0-rmspe:0.190785\tvalidation_1-rmspe:0.164135\n",
      "[300]\tvalidation_0-rmse:0.114661\tvalidation_1-rmse:0.137713\tvalidation_0-rmspe:0.158668\tvalidation_1-rmspe:0.147126\n",
      "[400]\tvalidation_0-rmse:0.100485\tvalidation_1-rmse:0.127604\tvalidation_0-rmspe:0.140553\tvalidation_1-rmspe:0.136942\n",
      "[500]\tvalidation_0-rmse:0.092873\tvalidation_1-rmse:0.122087\tvalidation_0-rmspe:0.131798\tvalidation_1-rmspe:0.131095\n",
      "[600]\tvalidation_0-rmse:0.088042\tvalidation_1-rmse:0.118945\tvalidation_0-rmspe:0.122863\tvalidation_1-rmspe:0.127547\n",
      "[700]\tvalidation_0-rmse:0.084626\tvalidation_1-rmse:0.1171\tvalidation_0-rmspe:0.117754\tvalidation_1-rmspe:0.125537\n",
      "[800]\tvalidation_0-rmse:0.081795\tvalidation_1-rmse:0.116052\tvalidation_0-rmspe:0.109455\tvalidation_1-rmspe:0.124368\n",
      "[900]\tvalidation_0-rmse:0.079432\tvalidation_1-rmse:0.115234\tvalidation_0-rmspe:0.103123\tvalidation_1-rmspe:0.123396\n",
      "[1000]\tvalidation_0-rmse:0.077436\tvalidation_1-rmse:0.114686\tvalidation_0-rmspe:0.096488\tvalidation_1-rmspe:0.122772\n",
      "[1100]\tvalidation_0-rmse:0.07563\tvalidation_1-rmse:0.114317\tvalidation_0-rmspe:0.090069\tvalidation_1-rmspe:0.122397\n",
      "[1200]\tvalidation_0-rmse:0.073903\tvalidation_1-rmse:0.114247\tvalidation_0-rmspe:0.085119\tvalidation_1-rmspe:0.122287\n",
      "[1300]\tvalidation_0-rmse:0.072491\tvalidation_1-rmse:0.114032\tvalidation_0-rmspe:0.082194\tvalidation_1-rmspe:0.121993\n",
      "[1400]\tvalidation_0-rmse:0.07112\tvalidation_1-rmse:0.113902\tvalidation_0-rmspe:0.079787\tvalidation_1-rmspe:0.121865\n",
      "[1500]\tvalidation_0-rmse:0.069935\tvalidation_1-rmse:0.113822\tvalidation_0-rmspe:0.077755\tvalidation_1-rmspe:0.12181\n",
      "Stopping. Best iteration:\n",
      "[1461]\tvalidation_0-rmse:0.070385\tvalidation_1-rmse:0.113792\tvalidation_0-rmspe:0.078564\tvalidation_1-rmspe:0.121752\n",
      "\n"
     ]
    }
   ],
   "source": [
    "valid_mask = (X_train[\"year\"] == 2015) & (X_train[\"dayofyear\"] >= 171)  # last 6 weeks\n",
    "X_train_1, y_train_1 = X_train[~valid_mask], y_train[~valid_mask]\n",
    "X_train_2, y_train_2 = X_train[valid_mask], y_train[valid_mask]\n",
    "reg = xgb.XGBRegressor(n_estimators=5000, objective=\"reg:squarederror\", max_depth=10,\n",
    "                       learning_rate=0.03, colsample_bytree=0.7, subsample=0.9,\n",
    "                       random_state=0, tree_method=\"gpu_hist\", gpu_id=0)\n",
    "reg.fit(X_train_1, y_train_1, eval_set=[(X_train_1, y_train_1), (X_train_2, y_train_2)],\n",
    "        eval_metric=rmspe_xgb, early_stopping_rounds=100, verbose=100)\n",
    "best_iteration = reg.best_iteration"
   ]
  },
  {
   "cell_type": "code",
   "execution_count": 23,
   "metadata": {},
   "outputs": [],
   "source": [
    "pred = np.expm1(reg.predict(X_test))\n",
    "pred[test_close_ind] = 0\n",
    "submission = pd.DataFrame({\"Id\": test_ID, \"Sales\": pred},\n",
    "                          columns=[\"Id\", \"Sales\"])\n",
    "# 0.11690 0.11939\n",
    "submission.to_csv(\"submit/v1_1.csv\", index=False)"
   ]
  },
  {
   "cell_type": "code",
   "execution_count": 24,
   "metadata": {},
   "outputs": [
    {
     "name": "stdout",
     "output_type": "stream",
     "text": [
      "RMSPE: 0.1218\n"
     ]
    },
    {
     "data": {
      "image/png": "[encoded data removed]",
      "text/plain": [
       "<Figure size 432x288 with 1 Axes>"
      ]
     },
     "metadata": {
      "needs_background": "light"
     },
     "output_type": "display_data"
    },
    {
     "name": "stdout",
     "output_type": "stream",
     "text": [
      "Best weight is 0.995, RMSPE is 0.1202\n"
     ]
    }
   ],
   "source": [
    "# correction, see https://www.kaggle.com/c/rossmann-store-sales/discussion/17601#latest-100894\n",
    "y_pred = reg.predict(X_train_2)\n",
    "error = rmspe(np.expm1(y_train_2), np.expm1(y_pred))\n",
    "print(\"RMSPE: {:.4f}\".format(error))\n",
    "weights = np.arange(0.98, 1.02, 0.005)\n",
    "errors = []\n",
    "for w in weights:\n",
    "    error = rmspe(np.expm1(y_train_2), np.expm1(y_pred * w))\n",
    "    errors.append(error)\n",
    "plt.figure()\n",
    "plt.plot(weights, errors)\n",
    "plt.xlabel('weight')\n",
    "plt.ylabel('RMSPE')\n",
    "plt.title('RMSPE Curve')\n",
    "plt.show()\n",
    "print(\"Best weight is {}, RMSPE is {:.4f}\".format(weights[np.argmin(errors)], np.min(errors)))"
   ]
  },
  {
   "cell_type": "code",
   "execution_count": 25,
   "metadata": {},
   "outputs": [],
   "source": [
    "pred = np.expm1(reg.predict(X_test) * 0.995)\n",
    "pred[test_close_ind] = 0\n",
    "submission = pd.DataFrame({\"Id\": test_ID, \"Sales\": pred},\n",
    "                          columns=[\"Id\", \"Sales\"])\n",
    "# 0.11392 0.11196\n",
    "submission.to_csv(\"submit/v1_2.csv\", index=False)"
   ]
  },
  {
   "cell_type": "code",
   "execution_count": 26,
   "metadata": {},
   "outputs": [
    {
     "name": "stdout",
     "output_type": "stream",
     "text": [
      "[0]\tvalidation_0-rmse:8.02108\tvalidation_0-rmspe:0.999809\n",
      "Multiple eval metrics have been passed: 'validation_0-rmspe' will be used for early stopping.\n",
      "\n",
      "Will train until validation_0-rmspe hasn't improved in 100 rounds.\n",
      "[100]\tvalidation_0-rmse:0.429655\tvalidation_0-rmspe:0.348924\n",
      "[200]\tvalidation_0-rmse:0.143011\tvalidation_0-rmspe:0.189378\n",
      "[300]\tvalidation_0-rmse:0.115159\tvalidation_0-rmspe:0.155911\n",
      "[400]\tvalidation_0-rmse:0.10085\tvalidation_0-rmspe:0.13395\n",
      "[500]\tvalidation_0-rmse:0.092914\tvalidation_0-rmspe:0.124476\n",
      "[600]\tvalidation_0-rmse:0.087718\tvalidation_0-rmspe:0.118258\n",
      "[700]\tvalidation_0-rmse:0.084345\tvalidation_0-rmspe:0.111821\n",
      "[800]\tvalidation_0-rmse:0.081607\tvalidation_0-rmspe:0.105381\n",
      "[900]\tvalidation_0-rmse:0.079204\tvalidation_0-rmspe:0.097228\n",
      "[1000]\tvalidation_0-rmse:0.077259\tvalidation_0-rmspe:0.090241\n",
      "[1100]\tvalidation_0-rmse:0.075528\tvalidation_0-rmspe:0.086593\n",
      "[1200]\tvalidation_0-rmse:0.073974\tvalidation_0-rmspe:0.083857\n",
      "[1300]\tvalidation_0-rmse:0.072573\tvalidation_0-rmspe:0.081583\n",
      "[1400]\tvalidation_0-rmse:0.07127\tvalidation_0-rmspe:0.079026\n",
      "[1460]\tvalidation_0-rmse:0.070588\tvalidation_0-rmspe:0.07794\n"
     ]
    },
    {
     "data": {
      "text/plain": [
       "XGBRegressor(base_score=0.5, booster='gbtree', colsample_bylevel=1,\n",
       "             colsample_bynode=1, colsample_bytree=0.7, gamma=0, gpu_id=0,\n",
       "             importance_type='gain', learning_rate=0.03, max_delta_step=0,\n",
       "             max_depth=10, min_child_weight=1, missing=None, n_estimators=1461,\n",
       "             n_jobs=1, nthread=None, objective='reg:squarederror',\n",
       "             random_state=0, reg_alpha=0, reg_lambda=1, scale_pos_weight=1,\n",
       "             seed=None, silent=None, subsample=0.9, tree_method='gpu_hist',\n",
       "             verbosity=1)"
      ]
     },
     "execution_count": 26,
     "metadata": {},
     "output_type": "execute_result"
    }
   ],
   "source": [
    "X_train, y_train = X_train[y_train != 0], y_train[y_train != 0]\n",
    "reg = xgb.XGBRegressor(n_estimators=best_iteration, objective=\"reg:squarederror\", max_depth=10,\n",
    "                       learning_rate=0.03, colsample_bytree=0.7, subsample=0.9,\n",
    "                       random_state=0, tree_method=\"gpu_hist\", gpu_id=0)\n",
    "reg.fit(X_train, y_train, eval_set=[(X_train, y_train)],\n",
    "        eval_metric=rmspe_xgb, early_stopping_rounds=100, verbose=100)"
   ]
  },
  {
   "cell_type": "code",
   "execution_count": 27,
   "metadata": {},
   "outputs": [],
   "source": [
    "pred = np.expm1(reg.predict(X_test))\n",
    "pred[test_close_ind] = 0\n",
    "submission = pd.DataFrame({\"Id\": test_ID, \"Sales\": pred},\n",
    "                          columns=[\"Id\", \"Sales\"])\n",
    "# 0.11357 0.10751\n",
    "submission.to_csv(\"submit/v1_3.csv\", index=False)"
   ]
  },
  {
   "cell_type": "code",
   "execution_count": 28,
   "metadata": {},
   "outputs": [],
   "source": [
    "pred = np.expm1(reg.predict(X_test) * 0.995)\n",
    "pred[test_close_ind] = 0\n",
    "submission = pd.DataFrame({\"Id\": test_ID, \"Sales\": pred},\n",
    "                          columns=[\"Id\", \"Sales\"])\n",
    "# 0.11245 0.10437\n",
    "submission.to_csv(\"submit/v1_4.csv\", index=False)"
   ]
  },
  {
   "cell_type": "code",
   "execution_count": 29,
   "metadata": {
    "scrolled": false
   },
   "outputs": [
    {
     "name": "stdout",
     "output_type": "stream",
     "text": [
      "=== model 0 ===\n",
      "[0]\tvalidation_0-rmse:8.02077\tvalidation_1-rmse:8.02757\tvalidation_0-rmspe:0.999809\tvalidation_1-rmspe:0.999811\n",
      "Multiple eval metrics have been passed: 'validation_1-rmspe' will be used for early stopping.\n",
      "\n",
      "Will train until validation_1-rmspe hasn't improved in 100 rounds.\n",
      "[100]\tvalidation_0-rmse:0.430382\tvalidation_1-rmse:0.433858\tvalidation_0-rmspe:0.350826\tvalidation_1-rmspe:0.336482\n",
      "[200]\tvalidation_0-rmse:0.143107\tvalidation_1-rmse:0.159251\tvalidation_0-rmspe:0.189848\tvalidation_1-rmspe:0.164263\n",
      "[300]\tvalidation_0-rmse:0.114097\tvalidation_1-rmse:0.137039\tvalidation_0-rmspe:0.158157\tvalidation_1-rmspe:0.145955\n",
      "[400]\tvalidation_0-rmse:0.100466\tvalidation_1-rmse:0.127428\tvalidation_0-rmspe:0.135956\tvalidation_1-rmspe:0.136322\n",
      "[500]\tvalidation_0-rmse:0.092618\tvalidation_1-rmse:0.122038\tvalidation_0-rmspe:0.125547\tvalidation_1-rmspe:0.130442\n",
      "[600]\tvalidation_0-rmse:0.08772\tvalidation_1-rmse:0.11917\tvalidation_0-rmspe:0.115587\tvalidation_1-rmspe:0.127242\n",
      "[700]\tvalidation_0-rmse:0.084007\tvalidation_1-rmse:0.117461\tvalidation_0-rmspe:0.110009\tvalidation_1-rmspe:0.12531\n",
      "[800]\tvalidation_0-rmse:0.081311\tvalidation_1-rmse:0.116581\tvalidation_0-rmspe:0.105378\tvalidation_1-rmspe:0.124416\n",
      "[900]\tvalidation_0-rmse:0.078983\tvalidation_1-rmse:0.115752\tvalidation_0-rmspe:0.096845\tvalidation_1-rmspe:0.123351\n",
      "[1000]\tvalidation_0-rmse:0.077076\tvalidation_1-rmse:0.115314\tvalidation_0-rmspe:0.092478\tvalidation_1-rmspe:0.122877\n",
      "[1100]\tvalidation_0-rmse:0.075325\tvalidation_1-rmse:0.115006\tvalidation_0-rmspe:0.087128\tvalidation_1-rmspe:0.122568\n",
      "[1200]\tvalidation_0-rmse:0.073654\tvalidation_1-rmse:0.114812\tvalidation_0-rmspe:0.08378\tvalidation_1-rmspe:0.12235\n",
      "[1300]\tvalidation_0-rmse:0.072222\tvalidation_1-rmse:0.114698\tvalidation_0-rmspe:0.081594\tvalidation_1-rmspe:0.122224\n",
      "[1400]\tvalidation_0-rmse:0.070901\tvalidation_1-rmse:0.114561\tvalidation_0-rmspe:0.078756\tvalidation_1-rmspe:0.122036\n",
      "[1500]\tvalidation_0-rmse:0.069697\tvalidation_1-rmse:0.114435\tvalidation_0-rmspe:0.076269\tvalidation_1-rmspe:0.121939\n",
      "[1600]\tvalidation_0-rmse:0.06861\tvalidation_1-rmse:0.114404\tvalidation_0-rmspe:0.074262\tvalidation_1-rmspe:0.121931\n",
      "[1700]\tvalidation_0-rmse:0.067625\tvalidation_1-rmse:0.114324\tvalidation_0-rmspe:0.072826\tvalidation_1-rmspe:0.121869\n",
      "[1800]\tvalidation_0-rmse:0.066619\tvalidation_1-rmse:0.114245\tvalidation_0-rmspe:0.071421\tvalidation_1-rmspe:0.121784\n",
      "Stopping. Best iteration:\n",
      "[1797]\tvalidation_0-rmse:0.066646\tvalidation_1-rmse:0.114244\tvalidation_0-rmspe:0.071456\tvalidation_1-rmspe:0.121782\n",
      "\n",
      "[0]\tvalidation_0-rmse:8.02108\tvalidation_0-rmspe:0.999809\n",
      "Multiple eval metrics have been passed: 'validation_0-rmspe' will be used for early stopping.\n",
      "\n",
      "Will train until validation_0-rmspe hasn't improved in 100 rounds.\n",
      "[100]\tvalidation_0-rmse:0.429085\tvalidation_0-rmspe:0.34808\n",
      "[200]\tvalidation_0-rmse:0.140993\tvalidation_0-rmspe:0.185826\n",
      "[300]\tvalidation_0-rmse:0.113415\tvalidation_0-rmspe:0.154741\n",
      "[400]\tvalidation_0-rmse:0.100113\tvalidation_0-rmspe:0.135955\n",
      "[500]\tvalidation_0-rmse:0.09268\tvalidation_0-rmspe:0.123988\n",
      "[600]\tvalidation_0-rmse:0.088063\tvalidation_0-rmspe:0.109752\n",
      "[700]\tvalidation_0-rmse:0.084527\tvalidation_0-rmspe:0.10296\n",
      "[800]\tvalidation_0-rmse:0.081774\tvalidation_0-rmspe:0.095753\n",
      "[900]\tvalidation_0-rmse:0.079412\tvalidation_0-rmspe:0.090937\n",
      "[1000]\tvalidation_0-rmse:0.077407\tvalidation_0-rmspe:0.08746\n",
      "[1100]\tvalidation_0-rmse:0.075622\tvalidation_0-rmspe:0.084601\n",
      "[1200]\tvalidation_0-rmse:0.074071\tvalidation_0-rmspe:0.082139\n",
      "[1300]\tvalidation_0-rmse:0.072664\tvalidation_0-rmspe:0.08012\n",
      "[1400]\tvalidation_0-rmse:0.071369\tvalidation_0-rmspe:0.077819\n",
      "[1500]\tvalidation_0-rmse:0.070202\tvalidation_0-rmspe:0.076141\n",
      "[1600]\tvalidation_0-rmse:0.069098\tvalidation_0-rmspe:0.074607\n",
      "[1700]\tvalidation_0-rmse:0.068102\tvalidation_0-rmspe:0.073206\n",
      "[1796]\tvalidation_0-rmse:0.06718\tvalidation_0-rmspe:0.071887\n",
      "=== model 1 ===\n",
      "[0]\tvalidation_0-rmse:8.02084\tvalidation_1-rmse:8.02709\tvalidation_0-rmspe:0.999809\tvalidation_1-rmspe:0.999811\n",
      "Multiple eval metrics have been passed: 'validation_1-rmspe' will be used for early stopping.\n",
      "\n",
      "Will train until validation_1-rmspe hasn't improved in 100 rounds.\n",
      "[100]\tvalidation_0-rmse:0.429548\tvalidation_1-rmse:0.433419\tvalidation_0-rmspe:0.349049\tvalidation_1-rmspe:0.336495\n",
      "[200]\tvalidation_0-rmse:0.139881\tvalidation_1-rmse:0.154449\tvalidation_0-rmspe:0.187793\tvalidation_1-rmspe:0.158765\n",
      "[300]\tvalidation_0-rmse:0.113319\tvalidation_1-rmse:0.13373\tvalidation_0-rmspe:0.155379\tvalidation_1-rmspe:0.141695\n",
      "[400]\tvalidation_0-rmse:0.10069\tvalidation_1-rmse:0.124313\tvalidation_0-rmspe:0.138783\tvalidation_1-rmspe:0.132174\n",
      "[500]\tvalidation_0-rmse:0.092891\tvalidation_1-rmse:0.118981\tvalidation_0-rmspe:0.129162\tvalidation_1-rmspe:0.126526\n",
      "[600]\tvalidation_0-rmse:0.087984\tvalidation_1-rmse:0.115855\tvalidation_0-rmspe:0.119846\tvalidation_1-rmspe:0.122999\n",
      "[700]\tvalidation_0-rmse:0.084473\tvalidation_1-rmse:0.114094\tvalidation_0-rmspe:0.112819\tvalidation_1-rmspe:0.120909\n",
      "[800]\tvalidation_0-rmse:0.081583\tvalidation_1-rmse:0.112976\tvalidation_0-rmspe:0.106969\tvalidation_1-rmspe:0.119581\n",
      "[900]\tvalidation_0-rmse:0.079201\tvalidation_1-rmse:0.112229\tvalidation_0-rmspe:0.102227\tvalidation_1-rmspe:0.118629\n",
      "[1000]\tvalidation_0-rmse:0.077111\tvalidation_1-rmse:0.11165\tvalidation_0-rmspe:0.096541\tvalidation_1-rmspe:0.118029\n",
      "[1100]\tvalidation_0-rmse:0.075244\tvalidation_1-rmse:0.111291\tvalidation_0-rmspe:0.090388\tvalidation_1-rmspe:0.117648\n",
      "[1200]\tvalidation_0-rmse:0.073707\tvalidation_1-rmse:0.111137\tvalidation_0-rmspe:0.085843\tvalidation_1-rmspe:0.117455\n",
      "[1300]\tvalidation_0-rmse:0.072305\tvalidation_1-rmse:0.111029\tvalidation_0-rmspe:0.0828\tvalidation_1-rmspe:0.117387\n",
      "[1400]\tvalidation_0-rmse:0.070958\tvalidation_1-rmse:0.110839\tvalidation_0-rmspe:0.079456\tvalidation_1-rmspe:0.117201\n",
      "[1500]\tvalidation_0-rmse:0.069752\tvalidation_1-rmse:0.110777\tvalidation_0-rmspe:0.077542\tvalidation_1-rmspe:0.117143\n",
      "[1600]\tvalidation_0-rmse:0.068581\tvalidation_1-rmse:0.110689\tvalidation_0-rmspe:0.075412\tvalidation_1-rmspe:0.117065\n",
      "[1700]\tvalidation_0-rmse:0.067521\tvalidation_1-rmse:0.11063\tvalidation_0-rmspe:0.073443\tvalidation_1-rmspe:0.116999\n",
      "[1800]\tvalidation_0-rmse:0.066533\tvalidation_1-rmse:0.110594\tvalidation_0-rmspe:0.071737\tvalidation_1-rmspe:0.116988\n",
      "[1900]\tvalidation_0-rmse:0.065618\tvalidation_1-rmse:0.110623\tvalidation_0-rmspe:0.070334\tvalidation_1-rmspe:0.117024\n",
      "Stopping. Best iteration:\n",
      "[1820]\tvalidation_0-rmse:0.066358\tvalidation_1-rmse:0.110583\tvalidation_0-rmspe:0.071499\tvalidation_1-rmspe:0.116966\n",
      "\n",
      "[0]\tvalidation_0-rmse:8.02115\tvalidation_0-rmspe:0.999809\n",
      "Multiple eval metrics have been passed: 'validation_0-rmspe' will be used for early stopping.\n",
      "\n",
      "Will train until validation_0-rmspe hasn't improved in 100 rounds.\n",
      "[100]\tvalidation_0-rmse:0.429497\tvalidation_0-rmspe:0.347499\n",
      "[200]\tvalidation_0-rmse:0.13933\tvalidation_0-rmspe:0.183364\n",
      "[300]\tvalidation_0-rmse:0.11404\tvalidation_0-rmspe:0.155864\n",
      "[400]\tvalidation_0-rmse:0.100247\tvalidation_0-rmspe:0.141394\n",
      "[500]\tvalidation_0-rmse:0.092625\tvalidation_0-rmspe:0.133129\n",
      "[600]\tvalidation_0-rmse:0.08778\tvalidation_0-rmspe:0.127141\n",
      "[700]\tvalidation_0-rmse:0.084119\tvalidation_0-rmspe:0.118182\n",
      "[800]\tvalidation_0-rmse:0.081492\tvalidation_0-rmspe:0.109433\n",
      "[900]\tvalidation_0-rmse:0.079123\tvalidation_0-rmspe:0.102094\n",
      "[1000]\tvalidation_0-rmse:0.077092\tvalidation_0-rmspe:0.092699\n",
      "[1100]\tvalidation_0-rmse:0.075323\tvalidation_0-rmspe:0.088686\n",
      "[1200]\tvalidation_0-rmse:0.073818\tvalidation_0-rmspe:0.085041\n",
      "[1300]\tvalidation_0-rmse:0.072432\tvalidation_0-rmspe:0.082311\n",
      "[1400]\tvalidation_0-rmse:0.071107\tvalidation_0-rmspe:0.07903\n",
      "[1500]\tvalidation_0-rmse:0.069937\tvalidation_0-rmspe:0.076849\n",
      "[1600]\tvalidation_0-rmse:0.068852\tvalidation_0-rmspe:0.07514\n",
      "[1700]\tvalidation_0-rmse:0.06781\tvalidation_0-rmspe:0.073188\n",
      "[1800]\tvalidation_0-rmse:0.066834\tvalidation_0-rmspe:0.071829\n",
      "[1819]\tvalidation_0-rmse:0.066663\tvalidation_0-rmspe:0.071566\n",
      "=== model 2 ===\n",
      "[0]\tvalidation_0-rmse:8.02074\tvalidation_1-rmse:8.02708\tvalidation_0-rmspe:0.999809\tvalidation_1-rmspe:0.999811\n",
      "Multiple eval metrics have been passed: 'validation_1-rmspe' will be used for early stopping.\n",
      "\n",
      "Will train until validation_1-rmspe hasn't improved in 100 rounds.\n",
      "[100]\tvalidation_0-rmse:0.429628\tvalidation_1-rmse:0.436558\tvalidation_0-rmspe:0.350158\tvalidation_1-rmspe:0.338264\n"
     ]
    },
    {
     "name": "stdout",
     "output_type": "stream",
     "text": [
      "[200]\tvalidation_0-rmse:0.142169\tvalidation_1-rmse:0.159686\tvalidation_0-rmspe:0.191389\tvalidation_1-rmspe:0.164808\n",
      "[300]\tvalidation_0-rmse:0.115665\tvalidation_1-rmse:0.138895\tvalidation_0-rmspe:0.163945\tvalidation_1-rmspe:0.148105\n",
      "[400]\tvalidation_0-rmse:0.101877\tvalidation_1-rmse:0.128401\tvalidation_0-rmspe:0.139309\tvalidation_1-rmspe:0.137335\n",
      "[500]\tvalidation_0-rmse:0.09332\tvalidation_1-rmse:0.123178\tvalidation_0-rmspe:0.127884\tvalidation_1-rmspe:0.131933\n",
      "[600]\tvalidation_0-rmse:0.087816\tvalidation_1-rmse:0.120054\tvalidation_0-rmspe:0.117419\tvalidation_1-rmspe:0.128616\n",
      "[700]\tvalidation_0-rmse:0.084344\tvalidation_1-rmse:0.118307\tvalidation_0-rmspe:0.108716\tvalidation_1-rmspe:0.126619\n",
      "[800]\tvalidation_0-rmse:0.081524\tvalidation_1-rmse:0.117441\tvalidation_0-rmspe:0.102148\tvalidation_1-rmspe:0.125695\n",
      "[900]\tvalidation_0-rmse:0.079241\tvalidation_1-rmse:0.116781\tvalidation_0-rmspe:0.096432\tvalidation_1-rmspe:0.124905\n",
      "[1000]\tvalidation_0-rmse:0.077277\tvalidation_1-rmse:0.11623\tvalidation_0-rmspe:0.091049\tvalidation_1-rmspe:0.124187\n",
      "[1100]\tvalidation_0-rmse:0.075446\tvalidation_1-rmse:0.1159\tvalidation_0-rmspe:0.086975\tvalidation_1-rmspe:0.123851\n",
      "[1200]\tvalidation_0-rmse:0.073958\tvalidation_1-rmse:0.1157\tvalidation_0-rmspe:0.08415\tvalidation_1-rmspe:0.123651\n",
      "[1300]\tvalidation_0-rmse:0.072549\tvalidation_1-rmse:0.115491\tvalidation_0-rmspe:0.081975\tvalidation_1-rmspe:0.123399\n",
      "[1400]\tvalidation_0-rmse:0.071238\tvalidation_1-rmse:0.115378\tvalidation_0-rmspe:0.079352\tvalidation_1-rmspe:0.123289\n",
      "[1500]\tvalidation_0-rmse:0.069986\tvalidation_1-rmse:0.115307\tvalidation_0-rmspe:0.077431\tvalidation_1-rmspe:0.123199\n",
      "Stopping. Best iteration:\n",
      "[1473]\tvalidation_0-rmse:0.070304\tvalidation_1-rmse:0.115277\tvalidation_0-rmspe:0.077847\tvalidation_1-rmspe:0.123152\n",
      "\n",
      "[0]\tvalidation_0-rmse:8.02105\tvalidation_0-rmspe:0.999809\n",
      "Multiple eval metrics have been passed: 'validation_0-rmspe' will be used for early stopping.\n",
      "\n",
      "Will train until validation_0-rmspe hasn't improved in 100 rounds.\n",
      "[100]\tvalidation_0-rmse:0.429563\tvalidation_0-rmspe:0.348196\n",
      "[200]\tvalidation_0-rmse:0.142615\tvalidation_0-rmspe:0.192764\n",
      "[300]\tvalidation_0-rmse:0.115627\tvalidation_0-rmspe:0.165382\n",
      "[400]\tvalidation_0-rmse:0.101002\tvalidation_0-rmspe:0.148521\n",
      "[500]\tvalidation_0-rmse:0.092828\tvalidation_0-rmspe:0.134781\n",
      "[600]\tvalidation_0-rmse:0.087985\tvalidation_0-rmspe:0.124219\n",
      "[700]\tvalidation_0-rmse:0.084467\tvalidation_0-rmspe:0.114229\n",
      "[800]\tvalidation_0-rmse:0.081699\tvalidation_0-rmspe:0.109975\n",
      "[900]\tvalidation_0-rmse:0.079337\tvalidation_0-rmspe:0.1024\n",
      "[1000]\tvalidation_0-rmse:0.077349\tvalidation_0-rmspe:0.095224\n",
      "[1100]\tvalidation_0-rmse:0.075646\tvalidation_0-rmspe:0.09132\n",
      "[1200]\tvalidation_0-rmse:0.074034\tvalidation_0-rmspe:0.08545\n",
      "[1300]\tvalidation_0-rmse:0.072683\tvalidation_0-rmspe:0.082452\n",
      "[1400]\tvalidation_0-rmse:0.071362\tvalidation_0-rmspe:0.079821\n",
      "[1472]\tvalidation_0-rmse:0.070516\tvalidation_0-rmspe:0.078285\n",
      "=== model 3 ===\n",
      "[0]\tvalidation_0-rmse:8.02072\tvalidation_1-rmse:8.02803\tvalidation_0-rmspe:0.999809\tvalidation_1-rmspe:0.999811\n",
      "Multiple eval metrics have been passed: 'validation_1-rmspe' will be used for early stopping.\n",
      "\n",
      "Will train until validation_1-rmspe hasn't improved in 100 rounds.\n",
      "[100]\tvalidation_0-rmse:0.429211\tvalidation_1-rmse:0.43228\tvalidation_0-rmspe:0.34957\tvalidation_1-rmspe:0.335689\n",
      "[200]\tvalidation_0-rmse:0.140623\tvalidation_1-rmse:0.156471\tvalidation_0-rmspe:0.193174\tvalidation_1-rmspe:0.161543\n",
      "[300]\tvalidation_0-rmse:0.112246\tvalidation_1-rmse:0.13453\tvalidation_0-rmspe:0.165803\tvalidation_1-rmspe:0.143493\n",
      "[400]\tvalidation_0-rmse:0.099324\tvalidation_1-rmse:0.125123\tvalidation_0-rmspe:0.145155\tvalidation_1-rmspe:0.133895\n",
      "[500]\tvalidation_0-rmse:0.092006\tvalidation_1-rmse:0.119712\tvalidation_0-rmspe:0.135622\tvalidation_1-rmspe:0.127858\n",
      "[600]\tvalidation_0-rmse:0.087205\tvalidation_1-rmse:0.1167\tvalidation_0-rmspe:0.123384\tvalidation_1-rmspe:0.124464\n",
      "[700]\tvalidation_0-rmse:0.083888\tvalidation_1-rmse:0.115112\tvalidation_0-rmspe:0.116953\tvalidation_1-rmspe:0.122694\n",
      "[800]\tvalidation_0-rmse:0.081341\tvalidation_1-rmse:0.114111\tvalidation_0-rmspe:0.109216\tvalidation_1-rmspe:0.121567\n",
      "[900]\tvalidation_0-rmse:0.078981\tvalidation_1-rmse:0.113446\tvalidation_0-rmspe:0.100169\tvalidation_1-rmspe:0.120777\n",
      "[1000]\tvalidation_0-rmse:0.077009\tvalidation_1-rmse:0.112902\tvalidation_0-rmspe:0.094361\tvalidation_1-rmspe:0.120186\n",
      "[1100]\tvalidation_0-rmse:0.075231\tvalidation_1-rmse:0.112602\tvalidation_0-rmspe:0.087472\tvalidation_1-rmspe:0.11982\n",
      "[1200]\tvalidation_0-rmse:0.073647\tvalidation_1-rmse:0.112295\tvalidation_0-rmspe:0.084011\tvalidation_1-rmspe:0.11949\n",
      "[1300]\tvalidation_0-rmse:0.07225\tvalidation_1-rmse:0.112013\tvalidation_0-rmspe:0.080856\tvalidation_1-rmspe:0.119186\n",
      "[1400]\tvalidation_0-rmse:0.070985\tvalidation_1-rmse:0.111865\tvalidation_0-rmspe:0.078808\tvalidation_1-rmspe:0.119012\n",
      "[1500]\tvalidation_0-rmse:0.069794\tvalidation_1-rmse:0.111794\tvalidation_0-rmspe:0.076783\tvalidation_1-rmspe:0.118929\n",
      "[1600]\tvalidation_0-rmse:0.068689\tvalidation_1-rmse:0.11174\tvalidation_0-rmspe:0.075184\tvalidation_1-rmspe:0.118903\n",
      "[1700]\tvalidation_0-rmse:0.067634\tvalidation_1-rmse:0.111674\tvalidation_0-rmspe:0.073495\tvalidation_1-rmspe:0.118853\n",
      "[1800]\tvalidation_0-rmse:0.066614\tvalidation_1-rmse:0.111677\tvalidation_0-rmspe:0.071579\tvalidation_1-rmspe:0.118889\n",
      "Stopping. Best iteration:\n",
      "[1739]\tvalidation_0-rmse:0.067252\tvalidation_1-rmse:0.111651\tvalidation_0-rmspe:0.072769\tvalidation_1-rmspe:0.118836\n",
      "\n",
      "[0]\tvalidation_0-rmse:8.02104\tvalidation_0-rmspe:0.999809\n",
      "Multiple eval metrics have been passed: 'validation_0-rmspe' will be used for early stopping.\n",
      "\n",
      "Will train until validation_0-rmspe hasn't improved in 100 rounds.\n",
      "[100]\tvalidation_0-rmse:0.428531\tvalidation_0-rmspe:0.348464\n",
      "[200]\tvalidation_0-rmse:0.140753\tvalidation_0-rmspe:0.192171\n",
      "[300]\tvalidation_0-rmse:0.115015\tvalidation_0-rmspe:0.166453\n",
      "[400]\tvalidation_0-rmse:0.101174\tvalidation_0-rmspe:0.142159\n",
      "[500]\tvalidation_0-rmse:0.093439\tvalidation_0-rmspe:0.125814\n",
      "[600]\tvalidation_0-rmse:0.088323\tvalidation_0-rmspe:0.116843\n",
      "[700]\tvalidation_0-rmse:0.084576\tvalidation_0-rmspe:0.109713\n",
      "[800]\tvalidation_0-rmse:0.081762\tvalidation_0-rmspe:0.104427\n",
      "[900]\tvalidation_0-rmse:0.079408\tvalidation_0-rmspe:0.097595\n",
      "[1000]\tvalidation_0-rmse:0.077404\tvalidation_0-rmspe:0.088992\n",
      "[1100]\tvalidation_0-rmse:0.075637\tvalidation_0-rmspe:0.085904\n",
      "[1200]\tvalidation_0-rmse:0.074049\tvalidation_0-rmspe:0.082901\n",
      "[1300]\tvalidation_0-rmse:0.072642\tvalidation_0-rmspe:0.080309\n",
      "[1400]\tvalidation_0-rmse:0.071399\tvalidation_0-rmspe:0.078634\n",
      "[1500]\tvalidation_0-rmse:0.070215\tvalidation_0-rmspe:0.076736\n",
      "[1600]\tvalidation_0-rmse:0.069165\tvalidation_0-rmspe:0.075116\n",
      "[1700]\tvalidation_0-rmse:0.068099\tvalidation_0-rmspe:0.073587\n",
      "[1738]\tvalidation_0-rmse:0.067718\tvalidation_0-rmspe:0.072941\n",
      "=== model 4 ===\n",
      "[0]\tvalidation_0-rmse:8.02072\tvalidation_1-rmse:8.02791\tvalidation_0-rmspe:0.999809\tvalidation_1-rmspe:0.999811\n",
      "Multiple eval metrics have been passed: 'validation_1-rmspe' will be used for early stopping.\n",
      "\n",
      "Will train until validation_1-rmspe hasn't improved in 100 rounds.\n",
      "[100]\tvalidation_0-rmse:0.429852\tvalidation_1-rmse:0.437125\tvalidation_0-rmspe:0.349024\tvalidation_1-rmspe:0.338858\n",
      "[200]\tvalidation_0-rmse:0.140162\tvalidation_1-rmse:0.157241\tvalidation_0-rmspe:0.184504\tvalidation_1-rmspe:0.162032\n",
      "[300]\tvalidation_0-rmse:0.114618\tvalidation_1-rmse:0.137404\tvalidation_0-rmspe:0.158719\tvalidation_1-rmspe:0.146165\n",
      "[400]\tvalidation_0-rmse:0.100557\tvalidation_1-rmse:0.126831\tvalidation_0-rmspe:0.139825\tvalidation_1-rmspe:0.13523\n",
      "[500]\tvalidation_0-rmse:0.0927\tvalidation_1-rmse:0.121561\tvalidation_0-rmspe:0.12912\tvalidation_1-rmspe:0.129811\n",
      "[600]\tvalidation_0-rmse:0.087949\tvalidation_1-rmse:0.11864\tvalidation_0-rmspe:0.120171\tvalidation_1-rmspe:0.126683\n",
      "[700]\tvalidation_0-rmse:0.084592\tvalidation_1-rmse:0.117102\tvalidation_0-rmspe:0.11126\tvalidation_1-rmspe:0.125045\n",
      "[800]\tvalidation_0-rmse:0.081603\tvalidation_1-rmse:0.115961\tvalidation_0-rmspe:0.106306\tvalidation_1-rmspe:0.123702\n",
      "[900]\tvalidation_0-rmse:0.079236\tvalidation_1-rmse:0.115391\tvalidation_0-rmspe:0.100945\tvalidation_1-rmspe:0.12302\n",
      "[1000]\tvalidation_0-rmse:0.077263\tvalidation_1-rmse:0.114948\tvalidation_0-rmspe:0.095341\tvalidation_1-rmspe:0.122475\n"
     ]
    },
    {
     "name": "stdout",
     "output_type": "stream",
     "text": [
      "[1100]\tvalidation_0-rmse:0.075484\tvalidation_1-rmse:0.114624\tvalidation_0-rmspe:0.089544\tvalidation_1-rmspe:0.122109\n",
      "[1200]\tvalidation_0-rmse:0.073908\tvalidation_1-rmse:0.11429\tvalidation_0-rmspe:0.085313\tvalidation_1-rmspe:0.121731\n",
      "[1300]\tvalidation_0-rmse:0.072399\tvalidation_1-rmse:0.114184\tvalidation_0-rmspe:0.081991\tvalidation_1-rmspe:0.121648\n",
      "[1400]\tvalidation_0-rmse:0.071092\tvalidation_1-rmse:0.1141\tvalidation_0-rmspe:0.078974\tvalidation_1-rmspe:0.121553\n",
      "[1500]\tvalidation_0-rmse:0.069907\tvalidation_1-rmse:0.114081\tvalidation_0-rmspe:0.077074\tvalidation_1-rmspe:0.121478\n",
      "[1600]\tvalidation_0-rmse:0.068813\tvalidation_1-rmse:0.114021\tvalidation_0-rmspe:0.074804\tvalidation_1-rmspe:0.121408\n",
      "[1700]\tvalidation_0-rmse:0.067688\tvalidation_1-rmse:0.113934\tvalidation_0-rmspe:0.072774\tvalidation_1-rmspe:0.121325\n",
      "[1800]\tvalidation_0-rmse:0.066687\tvalidation_1-rmse:0.113849\tvalidation_0-rmspe:0.071254\tvalidation_1-rmspe:0.121243\n",
      "[1900]\tvalidation_0-rmse:0.065743\tvalidation_1-rmse:0.113816\tvalidation_0-rmspe:0.069939\tvalidation_1-rmspe:0.121206\n",
      "Stopping. Best iteration:\n",
      "[1829]\tvalidation_0-rmse:0.066409\tvalidation_1-rmse:0.113788\tvalidation_0-rmspe:0.070903\tvalidation_1-rmspe:0.121167\n",
      "\n",
      "[0]\tvalidation_0-rmse:8.02102\tvalidation_0-rmspe:0.999809\n",
      "Multiple eval metrics have been passed: 'validation_0-rmspe' will be used for early stopping.\n",
      "\n",
      "Will train until validation_0-rmspe hasn't improved in 100 rounds.\n",
      "[100]\tvalidation_0-rmse:0.429793\tvalidation_0-rmspe:0.349044\n",
      "[200]\tvalidation_0-rmse:0.141536\tvalidation_0-rmspe:0.186329\n",
      "[300]\tvalidation_0-rmse:0.114823\tvalidation_0-rmspe:0.159008\n",
      "[400]\tvalidation_0-rmse:0.10094\tvalidation_0-rmspe:0.142122\n",
      "[500]\tvalidation_0-rmse:0.093192\tvalidation_0-rmspe:0.134221\n",
      "[600]\tvalidation_0-rmse:0.08825\tvalidation_0-rmspe:0.125193\n",
      "[700]\tvalidation_0-rmse:0.084721\tvalidation_0-rmspe:0.113859\n",
      "[800]\tvalidation_0-rmse:0.081969\tvalidation_0-rmspe:0.109648\n",
      "[900]\tvalidation_0-rmse:0.079614\tvalidation_0-rmspe:0.106176\n",
      "[1000]\tvalidation_0-rmse:0.077602\tvalidation_0-rmspe:0.101222\n",
      "[1100]\tvalidation_0-rmse:0.075806\tvalidation_0-rmspe:0.092634\n",
      "[1200]\tvalidation_0-rmse:0.074249\tvalidation_0-rmspe:0.087933\n",
      "[1300]\tvalidation_0-rmse:0.07282\tvalidation_0-rmspe:0.085865\n",
      "[1400]\tvalidation_0-rmse:0.071567\tvalidation_0-rmspe:0.081018\n",
      "[1500]\tvalidation_0-rmse:0.070364\tvalidation_0-rmspe:0.078855\n",
      "[1600]\tvalidation_0-rmse:0.069278\tvalidation_0-rmspe:0.077125\n",
      "[1700]\tvalidation_0-rmse:0.068194\tvalidation_0-rmspe:0.075318\n",
      "[1800]\tvalidation_0-rmse:0.067199\tvalidation_0-rmspe:0.07331\n",
      "[1828]\tvalidation_0-rmse:0.066934\tvalidation_0-rmspe:0.072724\n"
     ]
    }
   ],
   "source": [
    "pred = np.zeros(X_test.shape[0])\n",
    "n_models = 5\n",
    "for i in range(n_models):\n",
    "    print(\"=== model \" + str(i) + \" ===\")\n",
    "    reg = xgb.XGBRegressor(n_estimators=5000, objective=\"reg:squarederror\", max_depth=10,\n",
    "                           learning_rate=0.03, colsample_bytree=0.7, subsample=0.9,\n",
    "                           random_state=i, tree_method=\"gpu_hist\", gpu_id=0)\n",
    "    reg.fit(X_train_1, y_train_1, eval_set=[(X_train_1, y_train_1), (X_train_2, y_train_2)],\n",
    "            eval_metric=rmspe_xgb, early_stopping_rounds=100, verbose=100)\n",
    "    best_iteration = reg.best_iteration\n",
    "    reg = xgb.XGBRegressor(n_estimators=best_iteration, objective=\"reg:squarederror\", max_depth=10,\n",
    "                           learning_rate=0.03, colsample_bytree=0.7, subsample=0.9,\n",
    "                           random_state=i, tree_method=\"gpu_hist\", gpu_id=0)\n",
    "    reg.fit(X_train, y_train, eval_set=[(X_train, y_train)],\n",
    "            eval_metric=rmspe_xgb, early_stopping_rounds=100, verbose=100)\n",
    "    pred += np.expm1(reg.predict(X_test) * 0.995)\n",
    "pred /= n_models\n",
    "pred[test_close_ind] = 0\n",
    "submission = pd.DataFrame({\"Id\": test_ID, \"Sales\": pred},\n",
    "                           columns=[\"Id\", \"Sales\"])\n",
    "# 0.11180 0.10257\n",
    "submission.to_csv(\"submit/v1_5.csv\", index=False)"
   ]
  }
 ],
 "metadata": {
  "kernelspec": {
   "display_name": "work",
   "language": "python",
   "name": "work"
  },
  "language_info": {
   "codemirror_mode": {
    "name": "ipython",
    "version": 3
   },
   "file_extension": ".py",
   "mimetype": "text/x-python",
   "name": "python",
   "nbconvert_exporter": "python",
   "pygments_lexer": "ipython3",
   "version": "3.7.3"
  }
 },
 "nbformat": 4,
 "nbformat_minor": 2
}
